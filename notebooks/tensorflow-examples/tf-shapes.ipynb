{
 "cells": [
  {
   "cell_type": "markdown",
   "metadata": {},
   "source": [
    "# TensorFlow Shapes\n",
    "\n",
    "This notebook demonstrates the most common TensorFlow operations."
   ]
  },
  {
   "cell_type": "code",
   "execution_count": 50,
   "metadata": {},
   "outputs": [],
   "source": [
    "# importing libraries\n",
    "import numpy as np\n",
    "import matplotlib.pyplot as plt\n",
    "import pandas as pd\n",
    "\n",
    "import tensorflow as tf\n",
    "\n"
   ]
  },
  {
   "cell_type": "code",
   "execution_count": 51,
   "metadata": {},
   "outputs": [
    {
     "name": "stdout",
     "output_type": "stream",
     "text": [
      "2.18.0\n"
     ]
    }
   ],
   "source": [
    "# check tensorflow installation\n",
    "print(tf.__version__)"
   ]
  },
  {
   "cell_type": "code",
   "execution_count": 52,
   "metadata": {},
   "outputs": [],
   "source": [
    "# setting some parameters\n",
    "tf.random.set_seed(42)"
   ]
  },
  {
   "cell_type": "code",
   "execution_count": 53,
   "metadata": {},
   "outputs": [],
   "source": [
    "# Utility functions\n",
    "\n",
    "# a pandas table demonstrating value, type, and shape of the tensors\n",
    "def display_table(tensor_list, index):   \n",
    "    data = {'Value': [t.numpy() for t in tensor_list],\n",
    "            'Type': [t.dtype for t in tensor_list],\n",
    "            'Shape': [t.shape for t in tensor_list],\n",
    "            'Rank': [tf.rank(t).numpy() for t in tensor_list]}\n",
    "    \n",
    "    df = pd.DataFrame(data, index=index)\n",
    "\n",
    "    return df"
   ]
  },
  {
   "cell_type": "code",
   "execution_count": 54,
   "metadata": {},
   "outputs": [
    {
     "name": "stdout",
     "output_type": "stream",
     "text": [
      "tf.Tensor(2, shape=(), dtype=int32)\n"
     ]
    },
    {
     "data": {
      "text/html": [
       "<div>\n",
       "<style scoped>\n",
       "    .dataframe tbody tr th:only-of-type {\n",
       "        vertical-align: middle;\n",
       "    }\n",
       "\n",
       "    .dataframe tbody tr th {\n",
       "        vertical-align: top;\n",
       "    }\n",
       "\n",
       "    .dataframe thead th {\n",
       "        text-align: right;\n",
       "    }\n",
       "</style>\n",
       "<table border=\"1\" class=\"dataframe\">\n",
       "  <thead>\n",
       "    <tr style=\"text-align: right;\">\n",
       "      <th></th>\n",
       "      <th>Value</th>\n",
       "      <th>Type</th>\n",
       "      <th>Shape</th>\n",
       "      <th>Rank</th>\n",
       "    </tr>\n",
       "  </thead>\n",
       "  <tbody>\n",
       "    <tr>\n",
       "      <th>a_int</th>\n",
       "      <td>2</td>\n",
       "      <td>&lt;dtype: 'int32'&gt;</td>\n",
       "      <td>()</td>\n",
       "      <td>0</td>\n",
       "    </tr>\n",
       "    <tr>\n",
       "      <th>a_float</th>\n",
       "      <td>3.14</td>\n",
       "      <td>&lt;dtype: 'float32'&gt;</td>\n",
       "      <td>()</td>\n",
       "      <td>0</td>\n",
       "    </tr>\n",
       "    <tr>\n",
       "      <th>a_str</th>\n",
       "      <td>b'Hello, TensorFlow!'</td>\n",
       "      <td>&lt;dtype: 'string'&gt;</td>\n",
       "      <td>()</td>\n",
       "      <td>0</td>\n",
       "    </tr>\n",
       "  </tbody>\n",
       "</table>\n",
       "</div>"
      ],
      "text/plain": [
       "                         Value                Type Shape  Rank\n",
       "a_int                        2    <dtype: 'int32'>    ()     0\n",
       "a_float                   3.14  <dtype: 'float32'>    ()     0\n",
       "a_str    b'Hello, TensorFlow!'   <dtype: 'string'>    ()     0"
      ]
     },
     "execution_count": 54,
     "metadata": {},
     "output_type": "execute_result"
    }
   ],
   "source": [
    "# an integer scalar\n",
    "a_int = tf.constant(2)\n",
    "print(a_int)\n",
    "\n",
    "# a float scalar\n",
    "a_float = tf.constant(3.14)\n",
    "\n",
    "# a string scalar\n",
    "a_str = tf.constant(\"Hello, TensorFlow!\")\n",
    "\n",
    "# a pandas table demonstrating value, type, and shape of the tensors\n",
    "display_table([a_int, a_float, a_str], ['a_int', 'a_float', 'a_str'])"
   ]
  },
  {
   "cell_type": "markdown",
   "metadata": {},
   "source": [
    "As observed on the table above, the rank of scalars is 0 and hence they do not have dimensions."
   ]
  },
  {
   "cell_type": "code",
   "execution_count": 55,
   "metadata": {},
   "outputs": [],
   "source": [
    "# trying to access the value of a scalar using a tensor will result in an error\n",
    "# a_int[0]\n",
    "\n",
    "# a_float[0]"
   ]
  },
  {
   "cell_type": "code",
   "execution_count": 56,
   "metadata": {},
   "outputs": [
    {
     "data": {
      "text/html": [
       "<div>\n",
       "<style scoped>\n",
       "    .dataframe tbody tr th:only-of-type {\n",
       "        vertical-align: middle;\n",
       "    }\n",
       "\n",
       "    .dataframe tbody tr th {\n",
       "        vertical-align: top;\n",
       "    }\n",
       "\n",
       "    .dataframe thead th {\n",
       "        text-align: right;\n",
       "    }\n",
       "</style>\n",
       "<table border=\"1\" class=\"dataframe\">\n",
       "  <thead>\n",
       "    <tr style=\"text-align: right;\">\n",
       "      <th></th>\n",
       "      <th>Value</th>\n",
       "      <th>Type</th>\n",
       "      <th>Shape</th>\n",
       "      <th>Rank</th>\n",
       "    </tr>\n",
       "  </thead>\n",
       "  <tbody>\n",
       "    <tr>\n",
       "      <th>a_int_vector</th>\n",
       "      <td>[1, 2, 3, 4, 5, 6, 7, 8, 9, 10]</td>\n",
       "      <td>&lt;dtype: 'int32'&gt;</td>\n",
       "      <td>(10)</td>\n",
       "      <td>1</td>\n",
       "    </tr>\n",
       "    <tr>\n",
       "      <th>a_float_vector</th>\n",
       "      <td>[3.14, 6.28, 9.42, 12.56]</td>\n",
       "      <td>&lt;dtype: 'float32'&gt;</td>\n",
       "      <td>(4)</td>\n",
       "      <td>1</td>\n",
       "    </tr>\n",
       "    <tr>\n",
       "      <th>a_str_vector</th>\n",
       "      <td>[b'Hello', b'Brave', b'New', b'World', b'of', ...</td>\n",
       "      <td>&lt;dtype: 'string'&gt;</td>\n",
       "      <td>(10)</td>\n",
       "      <td>1</td>\n",
       "    </tr>\n",
       "  </tbody>\n",
       "</table>\n",
       "</div>"
      ],
      "text/plain": [
       "                                                            Value  \\\n",
       "a_int_vector                      [1, 2, 3, 4, 5, 6, 7, 8, 9, 10]   \n",
       "a_float_vector                          [3.14, 6.28, 9.42, 12.56]   \n",
       "a_str_vector    [b'Hello', b'Brave', b'New', b'World', b'of', ...   \n",
       "\n",
       "                              Type Shape  Rank  \n",
       "a_int_vector      <dtype: 'int32'>  (10)     1  \n",
       "a_float_vector  <dtype: 'float32'>   (4)     1  \n",
       "a_str_vector     <dtype: 'string'>  (10)     1  "
      ]
     },
     "execution_count": 56,
     "metadata": {},
     "output_type": "execute_result"
    }
   ],
   "source": [
    "# an integer vector\n",
    "a_int_vector = tf.constant([1, 2, 3, 4, 5, 6, 7, 8, 9, 10])\n",
    "\n",
    "# a float vector\n",
    "a_float_vector = tf.constant([3.14, 6.28, 9.42, 12.56])\n",
    "\n",
    "# a string vector\n",
    "a_str_vector = tf.constant([\"Hello\", \"Brave\", \"New\", \"World\", \"of\", \"parallel\", \"computing\", \"with\", \"Tensor\", \"Flow\"])\n",
    "\n",
    "# a pandas table demonstrating value, type, and shape of the tensors\n",
    "display_table([a_int_vector, a_float_vector, a_str_vector], ['a_int_vector', 'a_float_vector', 'a_str_vector'])"
   ]
  },
  {
   "cell_type": "code",
   "execution_count": 57,
   "metadata": {},
   "outputs": [],
   "source": [
    "# trying to instantiate a tensor with different data types will result in an error\n",
    "# tf.constant([1, 2, 3, 4, 'five'])"
   ]
  },
  {
   "cell_type": "code",
   "execution_count": 58,
   "metadata": {},
   "outputs": [
    {
     "data": {
      "text/html": [
       "<div>\n",
       "<style scoped>\n",
       "    .dataframe tbody tr th:only-of-type {\n",
       "        vertical-align: middle;\n",
       "    }\n",
       "\n",
       "    .dataframe tbody tr th {\n",
       "        vertical-align: top;\n",
       "    }\n",
       "\n",
       "    .dataframe thead th {\n",
       "        text-align: right;\n",
       "    }\n",
       "</style>\n",
       "<table border=\"1\" class=\"dataframe\">\n",
       "  <thead>\n",
       "    <tr style=\"text-align: right;\">\n",
       "      <th></th>\n",
       "      <th>Value</th>\n",
       "      <th>Type</th>\n",
       "      <th>Shape</th>\n",
       "      <th>Rank</th>\n",
       "    </tr>\n",
       "  </thead>\n",
       "  <tbody>\n",
       "    <tr>\n",
       "      <th>a_int_vector[0]</th>\n",
       "      <td>1</td>\n",
       "      <td>&lt;dtype: 'int32'&gt;</td>\n",
       "      <td>()</td>\n",
       "      <td>0</td>\n",
       "    </tr>\n",
       "    <tr>\n",
       "      <th>a_float_vector[1:3]</th>\n",
       "      <td>[6.28, 9.42]</td>\n",
       "      <td>&lt;dtype: 'float32'&gt;</td>\n",
       "      <td>(2)</td>\n",
       "      <td>1</td>\n",
       "    </tr>\n",
       "    <tr>\n",
       "      <th>a_str_vector[::-1]</th>\n",
       "      <td>[b'Flow', b'Tensor', b'with', b'computing', b'...</td>\n",
       "      <td>&lt;dtype: 'string'&gt;</td>\n",
       "      <td>(10)</td>\n",
       "      <td>1</td>\n",
       "    </tr>\n",
       "  </tbody>\n",
       "</table>\n",
       "</div>"
      ],
      "text/plain": [
       "                                                                 Value  \\\n",
       "a_int_vector[0]                                                      1   \n",
       "a_float_vector[1:3]                                       [6.28, 9.42]   \n",
       "a_str_vector[::-1]   [b'Flow', b'Tensor', b'with', b'computing', b'...   \n",
       "\n",
       "                                   Type Shape  Rank  \n",
       "a_int_vector[0]        <dtype: 'int32'>    ()     0  \n",
       "a_float_vector[1:3]  <dtype: 'float32'>   (2)     1  \n",
       "a_str_vector[::-1]    <dtype: 'string'>  (10)     1  "
      ]
     },
     "execution_count": 58,
     "metadata": {},
     "output_type": "execute_result"
    }
   ],
   "source": [
    "# accessing the value of a vector (rank-1) using an index will return the corresponding scalar (rank-0)\n",
    "s = a_int_vector[0]\n",
    "\n",
    "# vector tensors can be sliced\n",
    "t = a_float_vector[1:3]\n",
    "\n",
    "# inverting a sentence using slicing\n",
    "u = a_str_vector[::-1]\n",
    "\n",
    "display_table([s, t, u], ['a_int_vector[0]', 'a_float_vector[1:3]', 'a_str_vector[::-1]'])\n"
   ]
  },
  {
   "cell_type": "code",
   "execution_count": 59,
   "metadata": {},
   "outputs": [
    {
     "data": {
      "text/html": [
       "<div>\n",
       "<style scoped>\n",
       "    .dataframe tbody tr th:only-of-type {\n",
       "        vertical-align: middle;\n",
       "    }\n",
       "\n",
       "    .dataframe tbody tr th {\n",
       "        vertical-align: top;\n",
       "    }\n",
       "\n",
       "    .dataframe thead th {\n",
       "        text-align: right;\n",
       "    }\n",
       "</style>\n",
       "<table border=\"1\" class=\"dataframe\">\n",
       "  <thead>\n",
       "    <tr style=\"text-align: right;\">\n",
       "      <th></th>\n",
       "      <th>Value</th>\n",
       "      <th>Type</th>\n",
       "      <th>Shape</th>\n",
       "      <th>Rank</th>\n",
       "    </tr>\n",
       "  </thead>\n",
       "  <tbody>\n",
       "    <tr>\n",
       "      <th>fibo</th>\n",
       "      <td>[[1, 0, 0, 0], [1, 1, 0, 0], [1, 1, 2, 0], [1,...</td>\n",
       "      <td>&lt;dtype: 'int32'&gt;</td>\n",
       "      <td>(4, 4)</td>\n",
       "      <td>2</td>\n",
       "    </tr>\n",
       "    <tr>\n",
       "      <th>prime</th>\n",
       "      <td>[[2, 3, 5, 7, 11]]</td>\n",
       "      <td>&lt;dtype: 'int32'&gt;</td>\n",
       "      <td>(1, 5)</td>\n",
       "      <td>2</td>\n",
       "    </tr>\n",
       "    <tr>\n",
       "      <th>odd</th>\n",
       "      <td>[[1], [3], [5], [7], [9]]</td>\n",
       "      <td>&lt;dtype: 'int32'&gt;</td>\n",
       "      <td>(5, 1)</td>\n",
       "      <td>2</td>\n",
       "    </tr>\n",
       "  </tbody>\n",
       "</table>\n",
       "</div>"
      ],
      "text/plain": [
       "                                                   Value              Type  \\\n",
       "fibo   [[1, 0, 0, 0], [1, 1, 0, 0], [1, 1, 2, 0], [1,...  <dtype: 'int32'>   \n",
       "prime                                 [[2, 3, 5, 7, 11]]  <dtype: 'int32'>   \n",
       "odd                            [[1], [3], [5], [7], [9]]  <dtype: 'int32'>   \n",
       "\n",
       "        Shape  Rank  \n",
       "fibo   (4, 4)     2  \n",
       "prime  (1, 5)     2  \n",
       "odd    (5, 1)     2  "
      ]
     },
     "execution_count": 59,
     "metadata": {},
     "output_type": "execute_result"
    }
   ],
   "source": [
    "# let's play a little bit with matrices\n",
    "\n",
    "# a 4x4 matrix of fibonacci numbers\n",
    "fibo = tf.constant([[1, 0, 0, 0], [1, 1, 0, 0], [1, 1, 2, 0], [1, 1, 2, 3]])\n",
    "\n",
    "# a 1x5 matrix (row vector) of prime numbers\n",
    "prime = tf.constant([[2, 3, 5, 7, 11]])\n",
    "\n",
    "# a 5x1 matrix (column vector) of odd numbers\n",
    "odd = tf.constant([[1], [3], [5], [7], [9]])\n",
    "\n",
    "display_table([fibo, prime, odd], ['fibo', 'prime', 'odd'])"
   ]
  },
  {
   "cell_type": "code",
   "execution_count": 60,
   "metadata": {},
   "outputs": [
    {
     "data": {
      "text/html": [
       "<div>\n",
       "<style scoped>\n",
       "    .dataframe tbody tr th:only-of-type {\n",
       "        vertical-align: middle;\n",
       "    }\n",
       "\n",
       "    .dataframe tbody tr th {\n",
       "        vertical-align: top;\n",
       "    }\n",
       "\n",
       "    .dataframe thead th {\n",
       "        text-align: right;\n",
       "    }\n",
       "</style>\n",
       "<table border=\"1\" class=\"dataframe\">\n",
       "  <thead>\n",
       "    <tr style=\"text-align: right;\">\n",
       "      <th></th>\n",
       "      <th>Value</th>\n",
       "      <th>Type</th>\n",
       "      <th>Shape</th>\n",
       "      <th>Rank</th>\n",
       "    </tr>\n",
       "  </thead>\n",
       "  <tbody>\n",
       "    <tr>\n",
       "      <th>fibo[0, 0]</th>\n",
       "      <td>1</td>\n",
       "      <td>&lt;dtype: 'int32'&gt;</td>\n",
       "      <td>()</td>\n",
       "      <td>0</td>\n",
       "    </tr>\n",
       "    <tr>\n",
       "      <th>fibo[1]</th>\n",
       "      <td>[1, 1, 0, 0]</td>\n",
       "      <td>&lt;dtype: 'int32'&gt;</td>\n",
       "      <td>(4)</td>\n",
       "      <td>1</td>\n",
       "    </tr>\n",
       "    <tr>\n",
       "      <th>fibo[1:]</th>\n",
       "      <td>[1, 1, 0, 0]</td>\n",
       "      <td>&lt;dtype: 'int32'&gt;</td>\n",
       "      <td>(4)</td>\n",
       "      <td>1</td>\n",
       "    </tr>\n",
       "    <tr>\n",
       "      <th>fibo[:, 2]</th>\n",
       "      <td>[0, 0, 2, 2]</td>\n",
       "      <td>&lt;dtype: 'int32'&gt;</td>\n",
       "      <td>(4)</td>\n",
       "      <td>1</td>\n",
       "    </tr>\n",
       "    <tr>\n",
       "      <th>fibo[2:, 2:]</th>\n",
       "      <td>[[2, 0], [2, 3]]</td>\n",
       "      <td>&lt;dtype: 'int32'&gt;</td>\n",
       "      <td>(2, 2)</td>\n",
       "      <td>2</td>\n",
       "    </tr>\n",
       "  </tbody>\n",
       "</table>\n",
       "</div>"
      ],
      "text/plain": [
       "                         Value              Type   Shape  Rank\n",
       "fibo[0, 0]                   1  <dtype: 'int32'>      ()     0\n",
       "fibo[1]           [1, 1, 0, 0]  <dtype: 'int32'>     (4)     1\n",
       "fibo[1:]          [1, 1, 0, 0]  <dtype: 'int32'>     (4)     1\n",
       "fibo[:, 2]        [0, 0, 2, 2]  <dtype: 'int32'>     (4)     1\n",
       "fibo[2:, 2:]  [[2, 0], [2, 3]]  <dtype: 'int32'>  (2, 2)     2"
      ]
     },
     "execution_count": 60,
     "metadata": {},
     "output_type": "execute_result"
    }
   ],
   "source": [
    "# tensors of different ranks can be sliced\n",
    "\n",
    "# selecting a single element from a 2-rank tensor\n",
    "a = fibo[0, 0]\n",
    "\n",
    "# selecting a row from a 2-rank tensor\n",
    "b = fibo[1]\n",
    "b2 = fibo[1,:] # equivalent to the above\n",
    "\n",
    "# selecting a column from a 2-rank tensor\n",
    "c = fibo[:, 2]\n",
    "\n",
    "# selecting a sub-matrix from a 2-rank tensor\n",
    "d = fibo[2:, 2:]\n",
    "\n",
    "display_table([a, b, b2, c, d], ['fibo[0, 0]', 'fibo[1]', 'fibo[1:]','fibo[:, 2]', 'fibo[2:, 2:]'])"
   ]
  },
  {
   "cell_type": "markdown",
   "metadata": {},
   "source": [
    "The table above shows us an important detail. Whenever we slice a tensor, the result is of the lowest rank that fits the resulting tensor. This can be a problem in pipelines in which we need to keep the same dimensions along the flow."
   ]
  },
  {
   "cell_type": "code",
   "execution_count": 61,
   "metadata": {},
   "outputs": [
    {
     "data": {
      "text/plain": [
       "<tf.Tensor: shape=(3, 3, 3), dtype=int32, numpy=\n",
       "array([[[87, 89, 61],\n",
       "        [86, 92, 84],\n",
       "        [83, 43, 71]],\n",
       "\n",
       "       [[91, 52, 40],\n",
       "        [51, 81, 20],\n",
       "        [ 8, 59, 32]],\n",
       "\n",
       "       [[ 9, 99, 11],\n",
       "        [12, 97, 94],\n",
       "        [19,  1, 61]]], dtype=int32)>"
      ]
     },
     "execution_count": 61,
     "metadata": {},
     "output_type": "execute_result"
    }
   ],
   "source": [
    "# a 3-rank tensor (a cube) of random numbers\n",
    "cube = tf.random.uniform([3, 3, 3], minval=0, maxval=100, dtype=tf.int32)\n",
    "cube"
   ]
  },
  {
   "cell_type": "code",
   "execution_count": 62,
   "metadata": {},
   "outputs": [
    {
     "data": {
      "text/plain": [
       "<tf.Tensor: shape=(2, 2, 2, 2), dtype=int32, numpy=\n",
       "array([[[[98, 43],\n",
       "         [19, 94]],\n",
       "\n",
       "        [[32, 13],\n",
       "         [84, 42]]],\n",
       "\n",
       "\n",
       "       [[[86, 24],\n",
       "         [81, 63]],\n",
       "\n",
       "        [[46,  0],\n",
       "         [69, 69]]]], dtype=int32)>"
      ]
     },
     "execution_count": 62,
     "metadata": {},
     "output_type": "execute_result"
    }
   ],
   "source": [
    "# tensors of ranks higher than 3 are supported\n",
    "\n",
    "# a 4-rank tensor (a hypercube) of random numbers\n",
    "hypercube = tf.random.uniform([2, 2, 2, 2], minval=0, maxval=100, dtype=tf.int32)\n",
    "hypercube"
   ]
  },
  {
   "cell_type": "code",
   "execution_count": 63,
   "metadata": {},
   "outputs": [
    {
     "data": {
      "text/plain": [
       "<tf.Tensor: shape=(2, 2, 2, 2, 2), dtype=int32, numpy=\n",
       "array([[[[[ 4, 92],\n",
       "          [77, 24]],\n",
       "\n",
       "         [[23,  7],\n",
       "          [84, 19]]],\n",
       "\n",
       "\n",
       "        [[[12, 27],\n",
       "          [61, 74]],\n",
       "\n",
       "         [[62, 94],\n",
       "          [27,  9]]]],\n",
       "\n",
       "\n",
       "\n",
       "       [[[[87, 69],\n",
       "          [33, 14]],\n",
       "\n",
       "         [[17, 62],\n",
       "          [14, 92]]],\n",
       "\n",
       "\n",
       "        [[[79, 42],\n",
       "          [ 3, 91]],\n",
       "\n",
       "         [[31, 34],\n",
       "          [68, 92]]]]], dtype=int32)>"
      ]
     },
     "execution_count": 63,
     "metadata": {},
     "output_type": "execute_result"
    }
   ],
   "source": [
    "# a 5-rank tensor of random numbers\n",
    "penta = tf.random.uniform([2, 2, 2, 2, 2], minval=0, maxval=100, dtype=tf.int32)\n",
    "penta"
   ]
  },
  {
   "cell_type": "code",
   "execution_count": 64,
   "metadata": {},
   "outputs": [
    {
     "data": {
      "text/html": [
       "<div>\n",
       "<style scoped>\n",
       "    .dataframe tbody tr th:only-of-type {\n",
       "        vertical-align: middle;\n",
       "    }\n",
       "\n",
       "    .dataframe tbody tr th {\n",
       "        vertical-align: top;\n",
       "    }\n",
       "\n",
       "    .dataframe thead th {\n",
       "        text-align: right;\n",
       "    }\n",
       "</style>\n",
       "<table border=\"1\" class=\"dataframe\">\n",
       "  <thead>\n",
       "    <tr style=\"text-align: right;\">\n",
       "      <th></th>\n",
       "      <th>Value</th>\n",
       "      <th>Type</th>\n",
       "      <th>Shape</th>\n",
       "      <th>Rank</th>\n",
       "    </tr>\n",
       "  </thead>\n",
       "  <tbody>\n",
       "    <tr>\n",
       "      <th>cube</th>\n",
       "      <td>[[[87, 89, 61], [86, 92, 84], [83, 43, 71]], [...</td>\n",
       "      <td>&lt;dtype: 'int32'&gt;</td>\n",
       "      <td>(3, 3, 3)</td>\n",
       "      <td>3</td>\n",
       "    </tr>\n",
       "    <tr>\n",
       "      <th>reshaped_cube</th>\n",
       "      <td>[[87, 89, 61, 86, 92, 84, 83, 43, 71], [91, 52...</td>\n",
       "      <td>&lt;dtype: 'int32'&gt;</td>\n",
       "      <td>(3, 9)</td>\n",
       "      <td>2</td>\n",
       "    </tr>\n",
       "    <tr>\n",
       "      <th>flattened_cube</th>\n",
       "      <td>[87, 89, 61, 86, 92, 84, 83, 43, 71, 91, 52, 4...</td>\n",
       "      <td>&lt;dtype: 'int32'&gt;</td>\n",
       "      <td>(27)</td>\n",
       "      <td>1</td>\n",
       "    </tr>\n",
       "  </tbody>\n",
       "</table>\n",
       "</div>"
      ],
      "text/plain": [
       "                                                            Value  \\\n",
       "cube            [[[87, 89, 61], [86, 92, 84], [83, 43, 71]], [...   \n",
       "reshaped_cube   [[87, 89, 61, 86, 92, 84, 83, 43, 71], [91, 52...   \n",
       "flattened_cube  [87, 89, 61, 86, 92, 84, 83, 43, 71, 91, 52, 4...   \n",
       "\n",
       "                            Type      Shape  Rank  \n",
       "cube            <dtype: 'int32'>  (3, 3, 3)     3  \n",
       "reshaped_cube   <dtype: 'int32'>     (3, 9)     2  \n",
       "flattened_cube  <dtype: 'int32'>       (27)     1  "
      ]
     },
     "execution_count": 64,
     "metadata": {},
     "output_type": "execute_result"
    }
   ],
   "source": [
    "# tensors can be reshaped\n",
    "\n",
    "# reshaping a 3-rank tensor into a 2-rank tensor\n",
    "reshaped_cube = tf.reshape(cube, [3, 9])\n",
    "\n",
    "# we can also flatten a tensor\n",
    "flattened_cube = tf.reshape(cube, [-1])\n",
    "\n",
    "display_table([cube, reshaped_cube, flattened_cube], ['cube', 'reshaped_cube', 'flattened_cube'])"
   ]
  },
  {
   "cell_type": "markdown",
   "metadata": {},
   "source": [
    "The syntax flattened_cube = tf.reshape(cube, [-1]) is used to reshape a TensorFlow tensor cube into a one-dimensional tensor (i.e., a flattened tensor).\n",
    "\n",
    "Here's a breakdown of the components:\n",
    "\n",
    "tf.reshape(tensor, shape): This function reshapes a tensor to the specified shape.\n",
    "cube: This is the original tensor that you want to reshape.\n",
    "[-1]: This shape argument tells TensorFlow to flatten the tensor into a one-dimensional tensor. The -1 is a special value in TensorFlow that means \"infer the size\". When used in the shape, it instructs TensorFlow to calculate the appropriate dimension size to match the total number of elements in the original tensor."
   ]
  }
 ],
 "metadata": {
  "kernelspec": {
   "display_name": ".venv",
   "language": "python",
   "name": "python3"
  },
  "language_info": {
   "codemirror_mode": {
    "name": "ipython",
    "version": 3
   },
   "file_extension": ".py",
   "mimetype": "text/x-python",
   "name": "python",
   "nbconvert_exporter": "python",
   "pygments_lexer": "ipython3",
   "version": "3.10.2"
  }
 },
 "nbformat": 4,
 "nbformat_minor": 2
}
